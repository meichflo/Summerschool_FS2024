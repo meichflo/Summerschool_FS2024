{
 "cells": [
  {
   "attachments": {},
   "cell_type": "markdown",
   "metadata": {},
   "source": [
    "# Agent-based credit risk modeling"
   ]
  },
  {
   "attachments": {},
   "cell_type": "markdown",
   "metadata": {},
   "source": [
    "Summer School Bayonne July 2024<br>\n",
    "Author:      Dr. Mario Gellrich<br><br>\n",
    "Last update: 2024-07-01"
   ]
  },
  {
   "attachments": {},
   "cell_type": "markdown",
   "metadata": {},
   "source": [
    "<p>The term 'credit risk' refers to the risk that a lender may not receive the owed principal and interest. The principal is the amount a consumer borrowed and have to pay back. Interest is what the lender charges for lending the money. The credit risk of a borrower can be measured by the five Cs (see: <a>https://www.openriskmanual.org/wiki/Five_Cs_Of_Credit_Analysis</a>): capacity, capital, character, colletaral, conditions. Based on this information a credit score can be calculated for every consumer. A credit score is one indicator that lenders use to asses how likely it is that a borrower is to default. To compensate for the credit risk, consumers with lower credit scores are usually charged higher interest rates on loans than consumers with higher credit scores.</p>\n",
    "\n",
    "<p>The agent-based model (ABM) provided in this Jupyter notebook is used to explore the role of different parameters like the number of agents and loan term on the credit risk. It contains a Lender class, a Borrower class and a CreditModel class. The model contains different time steps corresponding to the number of month in which the loan must be repayed (the loan term). The model also contains different borrower agents. Each borrower has a credit score ranging from 50 to 100. The interest rate depends on the credit risk score. If the credit risk score is high, the interest rate is low and vice versa.</p>\n",
    "    \n",
    "<p>At the beginning, each borrower asks for a random amount of money (the principle) between 50,000 and 500,000 USD. The model steps correspond to the number of months in which the loan must be repayed. At each model step, the borrower must repay the monthly loan. As in practise, the monthly payment remains the same throughout the loan term, but the allocation between principal and interest changes over time. At the beginning, a larger portion of the payment goes towards interest, while towards the end, a larger portion goes towards the principal. Sometimes a borrower cannot repay the monthly loan. If this happens, the borrower must repay the monthly rate owed in the next model step. If a borrower cannot repay the loan for three consecutive months, this borrower is removed from the model, and the remaining loan is considered as defaulted.</p>"
   ]
  },
  {
   "attachments": {},
   "cell_type": "markdown",
   "metadata": {},
   "source": [
    "## Model description"
   ]
  },
  {
   "attachments": {},
   "cell_type": "markdown",
   "metadata": {},
   "source": [
    "## Libraries and settings"
   ]
  },
  {
   "cell_type": "code",
   "execution_count": 46,
   "metadata": {},
   "outputs": [
    {
     "name": "stdout",
     "output_type": "stream",
     "text": [
      "/workspaces/Summerschool_FS2024\n"
     ]
    }
   ],
   "source": [
    "# Libraries\n",
    "import os\n",
    "import json\n",
    "import openai\n",
    "import random\n",
    "import numpy as np\n",
    "import pandas as pd\n",
    "from pathlib import Path\n",
    "import matplotlib.pyplot as plt\n",
    "\n",
    "from mesa import Agent, Model\n",
    "from mesa.time import RandomActivation\n",
    "\n",
    "# Set random seed\n",
    "random.seed(42)\n",
    "\n",
    "# Ignore warnings\n",
    "import warnings\n",
    "warnings.filterwarnings('ignore')\n",
    "\n",
    "# OpenAI API key\n",
    "credentials = json.loads(Path('credentials.json').read_text())['openai']\n",
    "openai.api_key = credentials.get('api_key')\n",
    "\n",
    "# Show current working directory\n",
    "print(os.getcwd())"
   ]
  },
  {
   "attachments": {},
   "cell_type": "markdown",
   "metadata": {},
   "source": [
    "## Example loan calculation\n",
    "\n",
    "See: https://www.calculator.net/loan-calculator.html"
   ]
  },
  {
   "cell_type": "code",
   "execution_count": 47,
   "metadata": {},
   "outputs": [
    {
     "name": "stdout",
     "output_type": "stream",
     "text": [
      "Principle: 100000 USD\n",
      "Loan term: 30 years (360 months)\n",
      "Interest rate: 5.00 %\n",
      "Monthly loan: 536.82 USD\n",
      "Annually loan: 6441.86 USD\n",
      "Total interest over 30 years: 93255.78 USD\n",
      "Principle plus interest over 30 years: 193255.78 USD\n"
     ]
    }
   ],
   "source": [
    "# Input\n",
    "# p = loan amount (principle)\n",
    "# r = monthly interest rate\n",
    "# y = number of years\n",
    "# n = total number of months\n",
    "\n",
    "p = 100000\n",
    "r = 0.05 / 12\n",
    "y = 30\n",
    "n = y*12\n",
    "\n",
    "# Monthly loan\n",
    "m = p * r * (1 + r)**n / ((1 + r)**n - 1)\n",
    "\n",
    "# Summary of results\n",
    "print(f\"Principle: {p:.0f} USD\")\n",
    "print(f\"Loan term: {y} years ({y*12} months)\")\n",
    "print(f\"Interest rate: {r*12*100:.2f} %\")\n",
    "print(f\"Monthly loan: {m:.2f} USD\")\n",
    "print(f\"Annually loan: {m*12:.2f} USD\")\n",
    "print(f\"Total interest over {y} years: {m*n - p:.2f} USD\")\n",
    "print(f\"Principle plus interest over {y} years: {m*n:.2f} USD\")"
   ]
  },
  {
   "cell_type": "markdown",
   "metadata": {},
   "source": [
    "## Let gpt-3.5-turbo create a function to calculate the monthly loan"
   ]
  },
  {
   "cell_type": "code",
   "execution_count": 48,
   "metadata": {},
   "outputs": [
    {
     "name": "stdout",
     "output_type": "stream",
     "text": [
      "Generated function code:\n",
      "Here's a Python function that calculates the monthly loan payment based on the loan amount, interest rate, and loan term provided:\n",
      "```python\n",
      "def calculate_monthly_payment(loan_amount, interest_rate, loan_term):\n",
      "    monthly_interest_rate = interest_rate / 100 / 12\n",
      "    total_payments = loan_term * 12\n",
      "    monthly_payment = (loan_amount * monthly_interest_rate) / (1 - (1 + monthly_interest_rate) ** -total_payments)\n",
      "    return monthly_payment\n",
      "\n",
      "loan_amount = 100000\n",
      "interest_rate = 5\n",
      "loan_term = 30\n",
      "\n",
      "monthly_payment = calculate_monthly_payment(loan_amount, interest_rate, loan_term)\n",
      "print(f\"The monthly loan payment for a $100,000 loan at 5% interest rate for 30 years is: ${monthly_payment:.2f}\")\n",
      "```\n",
      "\n",
      "Run this code in a Python environment to calculate and display the monthly loan payment for the given loan amount, interest rate, and loan term.\n"
     ]
    }
   ],
   "source": [
    "# Function to generate a function code using GPT-3.5 Turbo\n",
    "def generate_function_code(description):\n",
    "    prompt = f\"Write a Python function that does the following: {description}\"\n",
    "    \n",
    "    response = openai.ChatCompletion.create(\n",
    "        model=\"gpt-3.5-turbo\",\n",
    "        messages=[\n",
    "            {\"role\": \"system\", \"content\": \"You are a helpful assistant.\"},\n",
    "            {\"role\": \"user\", \"content\": prompt}\n",
    "        ]\n",
    "    )\n",
    "    \n",
    "    return response.choices[0].message['content'].strip()\n",
    "\n",
    "# Example description for the function\n",
    "description = \"\"\"Calculate the monthly loan payment for a given loan amount, \n",
    "                 interest rate, and loan term in years. Test the function with\n",
    "                 a loan amount of $100,000, an interest rate of 5%, and a loan term\n",
    "                 of 30 years.\"\"\"\n",
    "\n",
    "# Generate the function code\n",
    "function_code = generate_function_code(description)\n",
    "print(\"Generated function code:\")\n",
    "print(function_code)"
   ]
  },
  {
   "attachments": {},
   "cell_type": "markdown",
   "metadata": {},
   "source": [
    "## Basic agent-based credit risk model"
   ]
  },
  {
   "attachments": {},
   "cell_type": "markdown",
   "metadata": {},
   "source": [
    "### Lender class"
   ]
  },
  {
   "cell_type": "code",
   "execution_count": 49,
   "metadata": {},
   "outputs": [],
   "source": [
    "class Lender_(Agent):\n",
    "    def __init__(self, unique_id, model):\n",
    "        super().__init__(unique_id, model)\n",
    "\n",
    "    # Calculate interest rate depending on the borrowers credit score\n",
    "    def calculate_interest_rate(self, borrower):\n",
    "        interest_rate = 0.04 + ((100 - borrower.credit_score) * 0.0004)\n",
    "        \n",
    "        return interest_rate"
   ]
  },
  {
   "attachments": {},
   "cell_type": "markdown",
   "metadata": {},
   "source": [
    "### Borrower class"
   ]
  },
  {
   "cell_type": "code",
   "execution_count": 50,
   "metadata": {},
   "outputs": [],
   "source": [
    "class Borrower_(Agent):\n",
    "    def __init__(self, unique_id, model):\n",
    "        super().__init__(unique_id, model)\n",
    "        self.credit_score = random.randint(50, 100)\n",
    "        self.loan_amount = 100\n",
    "        self.principle = self.loan_amount\n",
    "        self.first_zero_balance_step = None  # attribute to track the step when the balance reaches zero\n",
    "    \n",
    "    # Display balance\n",
    "    def display_balance(self):\n",
    "        print(f\"Borrower {self.unique_id + 1}: Balance at step 0: {self.loan_amount:.2f}.- USD\")\n",
    "\n",
    "    # Loan payments per step (in this example, only the interest is payed)\n",
    "    def step(self):\n",
    "        repayment_amount = self.principle * self.interest_rate\n",
    "        self.loan_amount -= repayment_amount"
   ]
  },
  {
   "attachments": {},
   "cell_type": "markdown",
   "metadata": {},
   "source": [
    "### CreditModel class"
   ]
  },
  {
   "cell_type": "code",
   "execution_count": 51,
   "metadata": {},
   "outputs": [],
   "source": [
    "class CreditModel_(Model):\n",
    "    def __init__(self, num_borrowers):\n",
    "        self.num_agents = num_borrowers\n",
    "        self.schedule = RandomActivation(self)\n",
    "        self.step_number = 0\n",
    "\n",
    "        for i in range(self.num_agents):\n",
    "            a = Borrower_(i, self)\n",
    "            self.schedule.add(a)\n",
    "\n",
    "        # Instance of Lender class\n",
    "        self.lender = Lender_(0, self)\n",
    "\n",
    "        # Calculate and show interest rates of borrower agents\n",
    "        self.interest_rate()\n",
    "\n",
    "    def interest_rate(self):\n",
    "        borrowers = self.schedule.agents\n",
    "        for borrower in borrowers:\n",
    "            borrower.interest_rate = self.lender.calculate_interest_rate(borrower)\n",
    "            print(f\"Interest rate of Borrower {borrower.unique_id + 1}: {borrower.interest_rate:.2%}\")\n",
    "\n",
    "    def step(self):\n",
    "        self.step_number += 1\n",
    "        self.schedule.step()\n"
   ]
  },
  {
   "attachments": {},
   "cell_type": "markdown",
   "metadata": {},
   "source": [
    "### Calling the Borrower, Lender and CreditModel classes"
   ]
  },
  {
   "cell_type": "code",
   "execution_count": 56,
   "metadata": {},
   "outputs": [
    {
     "name": "stdout",
     "output_type": "stream",
     "text": [
      "Interest rates of borrowers:\n",
      "Interest rate of Borrower 1: 5.44%\n",
      "Interest rate of Borrower 2: 5.68%\n",
      "Interest rate of Borrower 3: 4.12%\n",
      "\n",
      "Balance of borrowers:\n",
      "Borrower 1: Balance at step 0: 100.00.- USD\n",
      "Borrower 2: Balance at step 0: 100.00.- USD\n",
      "Borrower 3: Balance at step 0: 100.00.- USD\n",
      "Borrower 1: Balance at step 1: 94.56.- USD\n",
      "Borrower 2: Balance at step 1: 94.32.- USD\n",
      "Borrower 3: Balance at step 1: 95.88.- USD\n",
      "Borrower 1: Balance at step 2: 89.12.- USD\n",
      "Borrower 2: Balance at step 2: 88.64.- USD\n",
      "Borrower 3: Balance at step 2: 91.76.- USD\n",
      "Borrower 1: Balance at step 3: 83.68.- USD\n",
      "Borrower 2: Balance at step 3: 82.96.- USD\n",
      "Borrower 3: Balance at step 3: 87.64.- USD\n",
      "Borrower 1: Balance at step 4: 78.24.- USD\n",
      "Borrower 2: Balance at step 4: 77.28.- USD\n",
      "Borrower 3: Balance at step 4: 83.52.- USD\n",
      "Borrower 1: Balance at step 5: 72.80.- USD\n",
      "Borrower 2: Balance at step 5: 71.60.- USD\n",
      "Borrower 3: Balance at step 5: 79.40.- USD\n",
      "Borrower 1: Balance at step 6: 67.36.- USD\n",
      "Borrower 2: Balance at step 6: 65.92.- USD\n",
      "Borrower 3: Balance at step 6: 75.28.- USD\n",
      "Borrower 1: Balance at step 7: 61.92.- USD\n",
      "Borrower 2: Balance at step 7: 60.24.- USD\n",
      "Borrower 3: Balance at step 7: 71.16.- USD\n",
      "Borrower 1: Balance at step 8: 56.48.- USD\n",
      "Borrower 2: Balance at step 8: 54.56.- USD\n",
      "Borrower 3: Balance at step 8: 67.04.- USD\n",
      "Borrower 1: Balance at step 9: 51.04.- USD\n",
      "Borrower 2: Balance at step 9: 48.88.- USD\n",
      "Borrower 3: Balance at step 9: 62.92.- USD\n",
      "Borrower 1: Balance at step 10: 45.60.- USD\n",
      "Borrower 2: Balance at step 10: 43.20.- USD\n",
      "Borrower 3: Balance at step 10: 58.80.- USD\n",
      "Borrower 1: Balance at step 11: 40.16.- USD\n",
      "Borrower 2: Balance at step 11: 37.52.- USD\n",
      "Borrower 3: Balance at step 11: 54.68.- USD\n",
      "Borrower 1: Balance at step 12: 34.72.- USD\n",
      "Borrower 2: Balance at step 12: 31.84.- USD\n",
      "Borrower 3: Balance at step 12: 50.56.- USD\n",
      "Borrower 1: Balance at step 13: 29.28.- USD\n",
      "Borrower 2: Balance at step 13: 26.16.- USD\n",
      "Borrower 3: Balance at step 13: 46.44.- USD\n",
      "Borrower 1: Balance at step 14: 23.84.- USD\n",
      "Borrower 2: Balance at step 14: 20.48.- USD\n",
      "Borrower 3: Balance at step 14: 42.32.- USD\n",
      "Borrower 1: Balance at step 15: 18.40.- USD\n",
      "Borrower 2: Balance at step 15: 14.80.- USD\n",
      "Borrower 3: Balance at step 15: 38.20.- USD\n",
      "Borrower 1: Balance at step 16: 12.96.- USD\n",
      "Borrower 2: Balance at step 16: 9.12.- USD\n",
      "Borrower 3: Balance at step 16: 34.08.- USD\n",
      "Borrower 1: Balance at step 17: 7.52.- USD\n",
      "Borrower 2: Balance at step 17: 3.44.- USD\n",
      "Borrower 3: Balance at step 17: 29.96.- USD\n",
      "Borrower 1: Balance at step 18: 2.08.- USD\n",
      "Borrower 2: Balance at step 18: 0.00.- USD\n",
      "Borrower 3: Balance at step 18: 25.84.- USD\n",
      "Borrower 1: Balance at step 19: 0.00.- USD\n",
      "Borrower 2: Balance at step 19: 0.00.- USD\n",
      "Borrower 3: Balance at step 19: 21.72.- USD\n",
      "Borrower 1: Balance at step 20: 0.00.- USD\n",
      "Borrower 2: Balance at step 20: 0.00.- USD\n",
      "Borrower 3: Balance at step 20: 17.60.- USD\n",
      "Borrower 1: Balance at step 21: 0.00.- USD\n",
      "Borrower 2: Balance at step 21: 0.00.- USD\n",
      "Borrower 3: Balance at step 21: 13.48.- USD\n",
      "Borrower 1: Balance at step 22: 0.00.- USD\n",
      "Borrower 2: Balance at step 22: 0.00.- USD\n",
      "Borrower 3: Balance at step 22: 9.36.- USD\n",
      "Borrower 1: Balance at step 23: 0.00.- USD\n",
      "Borrower 2: Balance at step 23: 0.00.- USD\n",
      "Borrower 3: Balance at step 23: 5.24.- USD\n",
      "Borrower 1: Balance at step 24: 0.00.- USD\n",
      "Borrower 2: Balance at step 24: 0.00.- USD\n",
      "Borrower 3: Balance at step 24: 1.12.- USD\n",
      "Borrower 1: Balance at step 25: 0.00.- USD\n",
      "Borrower 2: Balance at step 25: 0.00.- USD\n",
      "Borrower 3: Balance at step 25: 0.00.- USD\n",
      "Borrower 1: Balance at step 26: 0.00.- USD\n",
      "Borrower 2: Balance at step 26: 0.00.- USD\n",
      "Borrower 3: Balance at step 26: 0.00.- USD\n",
      "Borrower 1: Balance at step 27: 0.00.- USD\n",
      "Borrower 2: Balance at step 27: 0.00.- USD\n",
      "Borrower 3: Balance at step 27: 0.00.- USD\n",
      "Borrower 1: Balance at step 28: 0.00.- USD\n",
      "Borrower 2: Balance at step 28: 0.00.- USD\n",
      "Borrower 3: Balance at step 28: 0.00.- USD\n",
      "Borrower 1: Balance at step 29: 0.00.- USD\n",
      "Borrower 2: Balance at step 29: 0.00.- USD\n",
      "Borrower 3: Balance at step 29: 0.00.- USD\n",
      "Borrower 1: Balance at step 30: 0.00.- USD\n",
      "Borrower 2: Balance at step 30: 0.00.- USD\n",
      "Borrower 3: Balance at step 30: 0.00.- USD\n",
      "----------------------------------------\n",
      "Pay back day of borrowers:\n",
      "Borrower 1: Pay back day: 19.\n",
      "Borrower 2: Pay back day: 18.\n",
      "Borrower 3: Pay back day: 25.\n"
     ]
    }
   ],
   "source": [
    "# Create a model with three agents\n",
    "print(\"Interest rates of borrowers:\")\n",
    "model = CreditModel_(3)\n",
    "\n",
    "# Print initial balance of agents\n",
    "print(\"\\nBalance of borrowers:\")\n",
    "for agent in model.schedule.agents:\n",
    "    agent.display_balance()\n",
    "\n",
    "# Run the model for five steps\n",
    "for i in range(30):\n",
    "    model.step()\n",
    "\n",
    "    # Print the balance of each agent\n",
    "    for agent in model.schedule.agents:\n",
    "        if agent.loan_amount > 0:\n",
    "            print(f\"Borrower {agent.unique_id + 1}: Balance at step {model.step_number}: {agent.loan_amount:.2f}.- USD\")\n",
    "        else:\n",
    "            if agent.first_zero_balance_step is None:  # Check if this is the first zero balance\n",
    "                agent.first_zero_balance_step = i + 1  # Save the step number\n",
    "            print(f\"Borrower {agent.unique_id + 1}: Balance at step {i + 1}: 0.00.- USD\")\n",
    "\n",
    "# Print the payback day of borrowers\n",
    "print(\"--\"*20 +\"\\nPay back day of borrowers:\")\n",
    "for agent in model.schedule.agents:\n",
    "    payback_day = agent.first_zero_balance_step if agent.first_zero_balance_step else \"Not applicable\"\n",
    "    print(f\"Borrower {agent.unique_id + 1}: Pay back day: {payback_day}.\")\n"
   ]
  },
  {
   "cell_type": "code",
   "execution_count": 53,
   "metadata": {},
   "outputs": [
    {
     "name": "stdout",
     "output_type": "stream",
     "text": [
      "Borrower 1: Balance at step 0: -32.00.- USD\n",
      "None\n"
     ]
    }
   ],
   "source": [
    "print(model.schedule.agents[0].display_balance())"
   ]
  },
  {
   "cell_type": "markdown",
   "metadata": {},
   "source": [
    "### Jupyter notebook --footer info-- (please always provide this at the end of each notebook)"
   ]
  },
  {
   "cell_type": "code",
   "execution_count": 54,
   "metadata": {},
   "outputs": [
    {
     "name": "stdout",
     "output_type": "stream",
     "text": [
      "-----------------------------------\n",
      "POSIX\n",
      "Linux | 6.5.0-1022-azure\n",
      "Datetime: 2024-07-04 13:43:30\n",
      "Python Version: 3.10.14\n",
      "-----------------------------------\n"
     ]
    }
   ],
   "source": [
    "import os\n",
    "import platform\n",
    "import socket\n",
    "from platform import python_version\n",
    "from datetime import datetime\n",
    "\n",
    "print('-----------------------------------')\n",
    "print(os.name.upper())\n",
    "print(platform.system(), '|', platform.release())\n",
    "print('Datetime:', datetime.now().strftime(\"%Y-%m-%d %H:%M:%S\"))\n",
    "print('Python Version:', python_version())\n",
    "print('-----------------------------------')"
   ]
  }
 ],
 "metadata": {
  "kernelspec": {
   "display_name": "Python 3 (ipykernel)",
   "language": "python",
   "name": "python3"
  },
  "language_info": {
   "codemirror_mode": {
    "name": "ipython",
    "version": 3
   },
   "file_extension": ".py",
   "mimetype": "text/x-python",
   "name": "python",
   "nbconvert_exporter": "python",
   "pygments_lexer": "ipython3",
   "version": "3.10.14"
  }
 },
 "nbformat": 4,
 "nbformat_minor": 2
}
